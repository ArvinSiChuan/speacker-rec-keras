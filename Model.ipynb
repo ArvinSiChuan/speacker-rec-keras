{
 "cells": [
  {
   "cell_type": "markdown",
   "metadata": {},
   "source": [
    "# 3D Conv Speaker Recognition"
   ]
  },
  {
   "cell_type": "markdown",
   "metadata": {},
   "source": [
    "Model proto phase of this implementation."
   ]
  },
  {
   "cell_type": "markdown",
   "metadata": {},
   "source": [
    "## Import Dependencies"
   ]
  },
  {
   "cell_type": "code",
   "execution_count": 2,
   "metadata": {},
   "outputs": [],
   "source": [
    "import numpy as np\n",
    "\n",
    "# Library for hdf5\n",
    "import h5py as h5\n",
    "\n",
    "# Vis Tool of IPythin\n",
    "from IPython.display import SVG\n",
    "from IPython.display import Audio\n",
    "\n",
    "\n",
    "# Useful Magics\n",
    "% reload_ext autoreload\n",
    "% autoreload 2"
   ]
  },
  {
   "cell_type": "code",
   "execution_count": 2,
   "metadata": {},
   "outputs": [
    {
     "name": "stderr",
     "output_type": "stream",
     "text": [
      "Using TensorFlow backend.\n"
     ]
    }
   ],
   "source": [
    "# Model API Related\n",
    "from keras.models import Model\n",
    "from keras.optimizers import Adam\n",
    "\n",
    "# Layers\n",
    "from keras.layers import Input,Conv3D,Dense,PReLU,MaxPool3D,Activation\n",
    "\n",
    "# vis tool\n",
    "from keras.utils.vis_utils import model_to_dot"
   ]
  },
  {
   "cell_type": "markdown",
   "metadata": {},
   "source": [
    "## Data preprocess\n"
   ]
  },
  {
   "cell_type": "code",
   "execution_count": 6,
   "metadata": {},
   "outputs": [],
   "source": [
    "# TODO, CODE for h5 files"
   ]
  },
  {
   "cell_type": "markdown",
   "metadata": {},
   "source": [
    "## Define Model"
   ]
  },
  {
   "cell_type": "code",
   "execution_count": 3,
   "metadata": {},
   "outputs": [],
   "source": [
    "# Define Model\n",
    "def model(input_shape):\n",
    "    inputs=Input(shape=input_shape,name=\"input-layer\")\n",
    "    \n",
    "    # Conv 1\n",
    "    X = Conv3D(filters=16, kernel_size=(3, 1, 5), strides=(1, 1, 1), name=\"conv1-1\")(inputs)\n",
    "    X = PReLU(name=\"activation1-1\")(X)\n",
    "    X = Conv3D(filters=16, kernel_size=(3, 9, 1),strides=(1, 2, 1),name=\"conv1-2\")(X)\n",
    "    X = PReLU(name=\"activation1-2\")(X)\n",
    "    X = MaxPool3D(pool_size=(1, 1, 2), strides=(1, 1, 2), padding=\"valid\", name=\"pool-1\")(X)\n",
    "    \n",
    "    # Conv 2\n",
    "    X = Conv3D(filters=16, kernel_size=(3, 1, 4), strides=(1, 1, 1), name=\"conv2-1\")(X)\n",
    "    X = PReLU(name=\"activation2-1\")(X)\n",
    "    X = Conv3D(filters=16, kernel_size=(3, 8, 1),strides=(1, 2, 1),name=\"conv2-2\")(X)\n",
    "    X = PReLU(name=\"activation2-2\")(X)\n",
    "    X = MaxPool3D(pool_size=(1, 1, 2), strides=(1, 1, 2), padding=\"valid\", name=\"pool-2\")(X)\n",
    "    \n",
    "    # Conv 3\n",
    "    X = Conv3D(filters=16, kernel_size=(3, 1, 3), strides=(1, 1, 1), name=\"conv3-1\")(X)\n",
    "    X = PReLU(name=\"activation3-1\")(X)\n",
    "    X = Conv3D(filters=16, kernel_size=(3, 7, 1),strides=(1, 1, 1),name=\"conv3-2\")(X)\n",
    "    X = PReLU(name=\"activation3-2\")(X)\n",
    "    \n",
    "    # Conv 4\n",
    "    X = Conv3D(filters=16, kernel_size=(3, 1, 3), strides=(1, 1, 1), name=\"conv4-1\")(X)\n",
    "    X = PReLU(name=\"activation4-1\")(X)\n",
    "    X = Conv3D(filters=16, kernel_size=(3, 7, 1),strides=(1, 1, 1),name=\"conv4-2\")(X)\n",
    "    X = PReLU(name=\"activation4-2\")(X)\n",
    "    \n",
    "    # FC\n",
    "    X = Dense(units=128,name=\"fc\")(X)\n",
    "    # Final Activation\n",
    "    X = Activation(activation=\"softmax\",name=\"softmax\")(X)\n",
    "    model = Model(inputs=inputs,outputs=X)\n",
    "    \n",
    "    return model"
   ]
  },
  {
   "cell_type": "code",
   "execution_count": 4,
   "metadata": {},
   "outputs": [],
   "source": [
    "model = model((108,80,40,1))\n",
    "opt = Adam(beta_1=0.9, beta_2=0.999, decay=0.01, lr=0.001)\n",
    "model.compile(optimizer=opt, loss='categorical_crossentropy', metrics=[\"accuracy\"])"
   ]
  },
  {
   "cell_type": "code",
   "execution_count": 6,
   "metadata": {},
   "outputs": [
    {
     "data": {
      "image/svg+xml": [
       "<svg height=\"1505pt\" viewBox=\"0.00 0.00 192.00 1505.00\" width=\"192pt\" xmlns=\"http://www.w3.org/2000/svg\" xmlns:xlink=\"http://www.w3.org/1999/xlink\">\n",
       "<g class=\"graph\" id=\"graph0\" transform=\"scale(1 1) rotate(0) translate(4 1501)\">\n",
       "<title>G</title>\n",
       "<polygon fill=\"white\" points=\"-4,4 -4,-1501 188,-1501 188,4 -4,4\" stroke=\"none\"/>\n",
       "<!-- 140644841577440 -->\n",
       "<g class=\"node\" id=\"node1\"><title>140644841577440</title>\n",
       "<polygon fill=\"none\" points=\"0,-1460.5 0,-1496.5 184,-1496.5 184,-1460.5 0,-1460.5\" stroke=\"black\"/>\n",
       "<text font-family=\"Times,serif\" font-size=\"14.00\" text-anchor=\"middle\" x=\"92\" y=\"-1474.8\">input-layer: InputLayer</text>\n",
       "</g>\n",
       "<!-- 140644841574584 -->\n",
       "<g class=\"node\" id=\"node2\"><title>140644841574584</title>\n",
       "<polygon fill=\"none\" points=\"22.5,-1387.5 22.5,-1423.5 161.5,-1423.5 161.5,-1387.5 22.5,-1387.5\" stroke=\"black\"/>\n",
       "<text font-family=\"Times,serif\" font-size=\"14.00\" text-anchor=\"middle\" x=\"92\" y=\"-1401.8\">conv1-1: Conv3D</text>\n",
       "</g>\n",
       "<!-- 140644841577440&#45;&gt;140644841574584 -->\n",
       "<g class=\"edge\" id=\"edge1\"><title>140644841577440-&gt;140644841574584</title>\n",
       "<path d=\"M92,-1460.31C92,-1452.29 92,-1442.55 92,-1433.57\" fill=\"none\" stroke=\"black\"/>\n",
       "<polygon fill=\"black\" points=\"95.5001,-1433.53 92,-1423.53 88.5001,-1433.53 95.5001,-1433.53\" stroke=\"black\"/>\n",
       "</g>\n",
       "<!-- 140644841578336 -->\n",
       "<g class=\"node\" id=\"node3\"><title>140644841578336</title>\n",
       "<polygon fill=\"none\" points=\"8,-1314.5 8,-1350.5 176,-1350.5 176,-1314.5 8,-1314.5\" stroke=\"black\"/>\n",
       "<text font-family=\"Times,serif\" font-size=\"14.00\" text-anchor=\"middle\" x=\"92\" y=\"-1328.8\">activation1-1: PReLU</text>\n",
       "</g>\n",
       "<!-- 140644841574584&#45;&gt;140644841578336 -->\n",
       "<g class=\"edge\" id=\"edge2\"><title>140644841574584-&gt;140644841578336</title>\n",
       "<path d=\"M92,-1387.31C92,-1379.29 92,-1369.55 92,-1360.57\" fill=\"none\" stroke=\"black\"/>\n",
       "<polygon fill=\"black\" points=\"95.5001,-1360.53 92,-1350.53 88.5001,-1360.53 95.5001,-1360.53\" stroke=\"black\"/>\n",
       "</g>\n",
       "<!-- 140644841574696 -->\n",
       "<g class=\"node\" id=\"node4\"><title>140644841574696</title>\n",
       "<polygon fill=\"none\" points=\"22.5,-1241.5 22.5,-1277.5 161.5,-1277.5 161.5,-1241.5 22.5,-1241.5\" stroke=\"black\"/>\n",
       "<text font-family=\"Times,serif\" font-size=\"14.00\" text-anchor=\"middle\" x=\"92\" y=\"-1255.8\">conv1-2: Conv3D</text>\n",
       "</g>\n",
       "<!-- 140644841578336&#45;&gt;140644841574696 -->\n",
       "<g class=\"edge\" id=\"edge3\"><title>140644841578336-&gt;140644841574696</title>\n",
       "<path d=\"M92,-1314.31C92,-1306.29 92,-1296.55 92,-1287.57\" fill=\"none\" stroke=\"black\"/>\n",
       "<polygon fill=\"black\" points=\"95.5001,-1287.53 92,-1277.53 88.5001,-1287.53 95.5001,-1287.53\" stroke=\"black\"/>\n",
       "</g>\n",
       "<!-- 140644841263288 -->\n",
       "<g class=\"node\" id=\"node5\"><title>140644841263288</title>\n",
       "<polygon fill=\"none\" points=\"8,-1168.5 8,-1204.5 176,-1204.5 176,-1168.5 8,-1168.5\" stroke=\"black\"/>\n",
       "<text font-family=\"Times,serif\" font-size=\"14.00\" text-anchor=\"middle\" x=\"92\" y=\"-1182.8\">activation1-2: PReLU</text>\n",
       "</g>\n",
       "<!-- 140644841574696&#45;&gt;140644841263288 -->\n",
       "<g class=\"edge\" id=\"edge4\"><title>140644841574696-&gt;140644841263288</title>\n",
       "<path d=\"M92,-1241.31C92,-1233.29 92,-1223.55 92,-1214.57\" fill=\"none\" stroke=\"black\"/>\n",
       "<polygon fill=\"black\" points=\"95.5001,-1214.53 92,-1204.53 88.5001,-1214.53 95.5001,-1214.53\" stroke=\"black\"/>\n",
       "</g>\n",
       "<!-- 140644841264240 -->\n",
       "<g class=\"node\" id=\"node6\"><title>140644841264240</title>\n",
       "<polygon fill=\"none\" points=\"5.5,-1095.5 5.5,-1131.5 178.5,-1131.5 178.5,-1095.5 5.5,-1095.5\" stroke=\"black\"/>\n",
       "<text font-family=\"Times,serif\" font-size=\"14.00\" text-anchor=\"middle\" x=\"92\" y=\"-1109.8\">pool-1: MaxPooling3D</text>\n",
       "</g>\n",
       "<!-- 140644841263288&#45;&gt;140644841264240 -->\n",
       "<g class=\"edge\" id=\"edge5\"><title>140644841263288-&gt;140644841264240</title>\n",
       "<path d=\"M92,-1168.31C92,-1160.29 92,-1150.55 92,-1141.57\" fill=\"none\" stroke=\"black\"/>\n",
       "<polygon fill=\"black\" points=\"95.5001,-1141.53 92,-1131.53 88.5001,-1141.53 95.5001,-1141.53\" stroke=\"black\"/>\n",
       "</g>\n",
       "<!-- 140644840872536 -->\n",
       "<g class=\"node\" id=\"node7\"><title>140644840872536</title>\n",
       "<polygon fill=\"none\" points=\"22.5,-1022.5 22.5,-1058.5 161.5,-1058.5 161.5,-1022.5 22.5,-1022.5\" stroke=\"black\"/>\n",
       "<text font-family=\"Times,serif\" font-size=\"14.00\" text-anchor=\"middle\" x=\"92\" y=\"-1036.8\">conv2-1: Conv3D</text>\n",
       "</g>\n",
       "<!-- 140644841264240&#45;&gt;140644840872536 -->\n",
       "<g class=\"edge\" id=\"edge6\"><title>140644841264240-&gt;140644840872536</title>\n",
       "<path d=\"M92,-1095.31C92,-1087.29 92,-1077.55 92,-1068.57\" fill=\"none\" stroke=\"black\"/>\n",
       "<polygon fill=\"black\" points=\"95.5001,-1068.53 92,-1058.53 88.5001,-1068.53 95.5001,-1068.53\" stroke=\"black\"/>\n",
       "</g>\n",
       "<!-- 140644840535824 -->\n",
       "<g class=\"node\" id=\"node8\"><title>140644840535824</title>\n",
       "<polygon fill=\"none\" points=\"8,-949.5 8,-985.5 176,-985.5 176,-949.5 8,-949.5\" stroke=\"black\"/>\n",
       "<text font-family=\"Times,serif\" font-size=\"14.00\" text-anchor=\"middle\" x=\"92\" y=\"-963.8\">activation2-1: PReLU</text>\n",
       "</g>\n",
       "<!-- 140644840872536&#45;&gt;140644840535824 -->\n",
       "<g class=\"edge\" id=\"edge7\"><title>140644840872536-&gt;140644840535824</title>\n",
       "<path d=\"M92,-1022.31C92,-1014.29 92,-1004.55 92,-995.569\" fill=\"none\" stroke=\"black\"/>\n",
       "<polygon fill=\"black\" points=\"95.5001,-995.529 92,-985.529 88.5001,-995.529 95.5001,-995.529\" stroke=\"black\"/>\n",
       "</g>\n",
       "<!-- 140644840535656 -->\n",
       "<g class=\"node\" id=\"node9\"><title>140644840535656</title>\n",
       "<polygon fill=\"none\" points=\"22.5,-876.5 22.5,-912.5 161.5,-912.5 161.5,-876.5 22.5,-876.5\" stroke=\"black\"/>\n",
       "<text font-family=\"Times,serif\" font-size=\"14.00\" text-anchor=\"middle\" x=\"92\" y=\"-890.8\">conv2-2: Conv3D</text>\n",
       "</g>\n",
       "<!-- 140644840535824&#45;&gt;140644840535656 -->\n",
       "<g class=\"edge\" id=\"edge8\"><title>140644840535824-&gt;140644840535656</title>\n",
       "<path d=\"M92,-949.313C92,-941.289 92,-931.547 92,-922.569\" fill=\"none\" stroke=\"black\"/>\n",
       "<polygon fill=\"black\" points=\"95.5001,-922.529 92,-912.529 88.5001,-922.529 95.5001,-922.529\" stroke=\"black\"/>\n",
       "</g>\n",
       "<!-- 140644840626328 -->\n",
       "<g class=\"node\" id=\"node10\"><title>140644840626328</title>\n",
       "<polygon fill=\"none\" points=\"8,-803.5 8,-839.5 176,-839.5 176,-803.5 8,-803.5\" stroke=\"black\"/>\n",
       "<text font-family=\"Times,serif\" font-size=\"14.00\" text-anchor=\"middle\" x=\"92\" y=\"-817.8\">activation2-2: PReLU</text>\n",
       "</g>\n",
       "<!-- 140644840535656&#45;&gt;140644840626328 -->\n",
       "<g class=\"edge\" id=\"edge9\"><title>140644840535656-&gt;140644840626328</title>\n",
       "<path d=\"M92,-876.313C92,-868.289 92,-858.547 92,-849.569\" fill=\"none\" stroke=\"black\"/>\n",
       "<polygon fill=\"black\" points=\"95.5001,-849.529 92,-839.529 88.5001,-849.529 95.5001,-849.529\" stroke=\"black\"/>\n",
       "</g>\n",
       "<!-- 140644840624984 -->\n",
       "<g class=\"node\" id=\"node11\"><title>140644840624984</title>\n",
       "<polygon fill=\"none\" points=\"5.5,-730.5 5.5,-766.5 178.5,-766.5 178.5,-730.5 5.5,-730.5\" stroke=\"black\"/>\n",
       "<text font-family=\"Times,serif\" font-size=\"14.00\" text-anchor=\"middle\" x=\"92\" y=\"-744.8\">pool-2: MaxPooling3D</text>\n",
       "</g>\n",
       "<!-- 140644840626328&#45;&gt;140644840624984 -->\n",
       "<g class=\"edge\" id=\"edge10\"><title>140644840626328-&gt;140644840624984</title>\n",
       "<path d=\"M92,-803.313C92,-795.289 92,-785.547 92,-776.569\" fill=\"none\" stroke=\"black\"/>\n",
       "<polygon fill=\"black\" points=\"95.5001,-776.529 92,-766.529 88.5001,-776.529 95.5001,-776.529\" stroke=\"black\"/>\n",
       "</g>\n",
       "<!-- 140644829651744 -->\n",
       "<g class=\"node\" id=\"node12\"><title>140644829651744</title>\n",
       "<polygon fill=\"none\" points=\"22.5,-657.5 22.5,-693.5 161.5,-693.5 161.5,-657.5 22.5,-657.5\" stroke=\"black\"/>\n",
       "<text font-family=\"Times,serif\" font-size=\"14.00\" text-anchor=\"middle\" x=\"92\" y=\"-671.8\">conv3-1: Conv3D</text>\n",
       "</g>\n",
       "<!-- 140644840624984&#45;&gt;140644829651744 -->\n",
       "<g class=\"edge\" id=\"edge11\"><title>140644840624984-&gt;140644829651744</title>\n",
       "<path d=\"M92,-730.313C92,-722.289 92,-712.547 92,-703.569\" fill=\"none\" stroke=\"black\"/>\n",
       "<polygon fill=\"black\" points=\"95.5001,-703.529 92,-693.529 88.5001,-703.529 95.5001,-703.529\" stroke=\"black\"/>\n",
       "</g>\n",
       "<!-- 140644829739440 -->\n",
       "<g class=\"node\" id=\"node13\"><title>140644829739440</title>\n",
       "<polygon fill=\"none\" points=\"8,-584.5 8,-620.5 176,-620.5 176,-584.5 8,-584.5\" stroke=\"black\"/>\n",
       "<text font-family=\"Times,serif\" font-size=\"14.00\" text-anchor=\"middle\" x=\"92\" y=\"-598.8\">activation3-1: PReLU</text>\n",
       "</g>\n",
       "<!-- 140644829651744&#45;&gt;140644829739440 -->\n",
       "<g class=\"edge\" id=\"edge12\"><title>140644829651744-&gt;140644829739440</title>\n",
       "<path d=\"M92,-657.313C92,-649.289 92,-639.547 92,-630.569\" fill=\"none\" stroke=\"black\"/>\n",
       "<polygon fill=\"black\" points=\"95.5001,-630.529 92,-620.529 88.5001,-630.529 95.5001,-630.529\" stroke=\"black\"/>\n",
       "</g>\n",
       "<!-- 140644829739272 -->\n",
       "<g class=\"node\" id=\"node14\"><title>140644829739272</title>\n",
       "<polygon fill=\"none\" points=\"22.5,-511.5 22.5,-547.5 161.5,-547.5 161.5,-511.5 22.5,-511.5\" stroke=\"black\"/>\n",
       "<text font-family=\"Times,serif\" font-size=\"14.00\" text-anchor=\"middle\" x=\"92\" y=\"-525.8\">conv3-2: Conv3D</text>\n",
       "</g>\n",
       "<!-- 140644829739440&#45;&gt;140644829739272 -->\n",
       "<g class=\"edge\" id=\"edge13\"><title>140644829739440-&gt;140644829739272</title>\n",
       "<path d=\"M92,-584.313C92,-576.289 92,-566.547 92,-557.569\" fill=\"none\" stroke=\"black\"/>\n",
       "<polygon fill=\"black\" points=\"95.5001,-557.529 92,-547.529 88.5001,-557.529 95.5001,-557.529\" stroke=\"black\"/>\n",
       "</g>\n",
       "<!-- 140644829813448 -->\n",
       "<g class=\"node\" id=\"node15\"><title>140644829813448</title>\n",
       "<polygon fill=\"none\" points=\"8,-438.5 8,-474.5 176,-474.5 176,-438.5 8,-438.5\" stroke=\"black\"/>\n",
       "<text font-family=\"Times,serif\" font-size=\"14.00\" text-anchor=\"middle\" x=\"92\" y=\"-452.8\">activation3-2: PReLU</text>\n",
       "</g>\n",
       "<!-- 140644829739272&#45;&gt;140644829813448 -->\n",
       "<g class=\"edge\" id=\"edge14\"><title>140644829739272-&gt;140644829813448</title>\n",
       "<path d=\"M92,-511.313C92,-503.289 92,-493.547 92,-484.569\" fill=\"none\" stroke=\"black\"/>\n",
       "<polygon fill=\"black\" points=\"95.5001,-484.529 92,-474.529 88.5001,-484.529 95.5001,-484.529\" stroke=\"black\"/>\n",
       "</g>\n",
       "<!-- 140644829812104 -->\n",
       "<g class=\"node\" id=\"node16\"><title>140644829812104</title>\n",
       "<polygon fill=\"none\" points=\"22.5,-365.5 22.5,-401.5 161.5,-401.5 161.5,-365.5 22.5,-365.5\" stroke=\"black\"/>\n",
       "<text font-family=\"Times,serif\" font-size=\"14.00\" text-anchor=\"middle\" x=\"92\" y=\"-379.8\">conv4-1: Conv3D</text>\n",
       "</g>\n",
       "<!-- 140644829813448&#45;&gt;140644829812104 -->\n",
       "<g class=\"edge\" id=\"edge15\"><title>140644829813448-&gt;140644829812104</title>\n",
       "<path d=\"M92,-438.313C92,-430.289 92,-420.547 92,-411.569\" fill=\"none\" stroke=\"black\"/>\n",
       "<polygon fill=\"black\" points=\"95.5001,-411.529 92,-401.529 88.5001,-411.529 95.5001,-411.529\" stroke=\"black\"/>\n",
       "</g>\n",
       "<!-- 140644829585536 -->\n",
       "<g class=\"node\" id=\"node17\"><title>140644829585536</title>\n",
       "<polygon fill=\"none\" points=\"8,-292.5 8,-328.5 176,-328.5 176,-292.5 8,-292.5\" stroke=\"black\"/>\n",
       "<text font-family=\"Times,serif\" font-size=\"14.00\" text-anchor=\"middle\" x=\"92\" y=\"-306.8\">activation4-1: PReLU</text>\n",
       "</g>\n",
       "<!-- 140644829812104&#45;&gt;140644829585536 -->\n",
       "<g class=\"edge\" id=\"edge16\"><title>140644829812104-&gt;140644829585536</title>\n",
       "<path d=\"M92,-365.313C92,-357.289 92,-347.547 92,-338.569\" fill=\"none\" stroke=\"black\"/>\n",
       "<polygon fill=\"black\" points=\"95.5001,-338.529 92,-328.529 88.5001,-338.529 95.5001,-338.529\" stroke=\"black\"/>\n",
       "</g>\n",
       "<!-- 140644829484312 -->\n",
       "<g class=\"node\" id=\"node18\"><title>140644829484312</title>\n",
       "<polygon fill=\"none\" points=\"22.5,-219.5 22.5,-255.5 161.5,-255.5 161.5,-219.5 22.5,-219.5\" stroke=\"black\"/>\n",
       "<text font-family=\"Times,serif\" font-size=\"14.00\" text-anchor=\"middle\" x=\"92\" y=\"-233.8\">conv4-2: Conv3D</text>\n",
       "</g>\n",
       "<!-- 140644829585536&#45;&gt;140644829484312 -->\n",
       "<g class=\"edge\" id=\"edge17\"><title>140644829585536-&gt;140644829484312</title>\n",
       "<path d=\"M92,-292.313C92,-284.289 92,-274.547 92,-265.569\" fill=\"none\" stroke=\"black\"/>\n",
       "<polygon fill=\"black\" points=\"95.5001,-265.529 92,-255.529 88.5001,-265.529 95.5001,-265.529\" stroke=\"black\"/>\n",
       "</g>\n",
       "<!-- 140644829149672 -->\n",
       "<g class=\"node\" id=\"node19\"><title>140644829149672</title>\n",
       "<polygon fill=\"none\" points=\"8,-146.5 8,-182.5 176,-182.5 176,-146.5 8,-146.5\" stroke=\"black\"/>\n",
       "<text font-family=\"Times,serif\" font-size=\"14.00\" text-anchor=\"middle\" x=\"92\" y=\"-160.8\">activation4-2: PReLU</text>\n",
       "</g>\n",
       "<!-- 140644829484312&#45;&gt;140644829149672 -->\n",
       "<g class=\"edge\" id=\"edge18\"><title>140644829484312-&gt;140644829149672</title>\n",
       "<path d=\"M92,-219.313C92,-211.289 92,-201.547 92,-192.569\" fill=\"none\" stroke=\"black\"/>\n",
       "<polygon fill=\"black\" points=\"95.5001,-192.529 92,-182.529 88.5001,-192.529 95.5001,-192.529\" stroke=\"black\"/>\n",
       "</g>\n",
       "<!-- 140644829148328 -->\n",
       "<g class=\"node\" id=\"node20\"><title>140644829148328</title>\n",
       "<polygon fill=\"none\" points=\"50.5,-73.5 50.5,-109.5 133.5,-109.5 133.5,-73.5 50.5,-73.5\" stroke=\"black\"/>\n",
       "<text font-family=\"Times,serif\" font-size=\"14.00\" text-anchor=\"middle\" x=\"92\" y=\"-87.8\">fc: Dense</text>\n",
       "</g>\n",
       "<!-- 140644829149672&#45;&gt;140644829148328 -->\n",
       "<g class=\"edge\" id=\"edge19\"><title>140644829149672-&gt;140644829148328</title>\n",
       "<path d=\"M92,-146.313C92,-138.289 92,-128.547 92,-119.569\" fill=\"none\" stroke=\"black\"/>\n",
       "<polygon fill=\"black\" points=\"95.5001,-119.529 92,-109.529 88.5001,-119.529 95.5001,-119.529\" stroke=\"black\"/>\n",
       "</g>\n",
       "<!-- 140644829331072 -->\n",
       "<g class=\"node\" id=\"node21\"><title>140644829331072</title>\n",
       "<polygon fill=\"none\" points=\"14,-0.5 14,-36.5 170,-36.5 170,-0.5 14,-0.5\" stroke=\"black\"/>\n",
       "<text font-family=\"Times,serif\" font-size=\"14.00\" text-anchor=\"middle\" x=\"92\" y=\"-14.8\">softmax: Activation</text>\n",
       "</g>\n",
       "<!-- 140644829148328&#45;&gt;140644829331072 -->\n",
       "<g class=\"edge\" id=\"edge20\"><title>140644829148328-&gt;140644829331072</title>\n",
       "<path d=\"M92,-73.3129C92,-65.2895 92,-55.5475 92,-46.5691\" fill=\"none\" stroke=\"black\"/>\n",
       "<polygon fill=\"black\" points=\"95.5001,-46.5288 92,-36.5288 88.5001,-46.5289 95.5001,-46.5288\" stroke=\"black\"/>\n",
       "</g>\n",
       "</g>\n",
       "</svg>"
      ],
      "text/plain": [
       "<IPython.core.display.SVG object>"
      ]
     },
     "execution_count": 6,
     "metadata": {},
     "output_type": "execute_result"
    }
   ],
   "source": [
    "SVG(model_to_dot(model).create(prog='dot', format='svg'))"
   ]
  },
  {
   "cell_type": "markdown",
   "metadata": {},
   "source": [
    "# Training\n"
   ]
  },
  {
   "cell_type": "code",
   "execution_count": null,
   "metadata": {},
   "outputs": [],
   "source": [
    "# TODO, training code"
   ]
  },
  {
   "cell_type": "markdown",
   "metadata": {},
   "source": [
    "# Enrollment"
   ]
  },
  {
   "cell_type": "code",
   "execution_count": 7,
   "metadata": {},
   "outputs": [],
   "source": [
    "# Todo, enrollment and similarity comparison"
   ]
  },
  {
   "cell_type": "markdown",
   "metadata": {},
   "source": [
    "# Evaluation"
   ]
  },
  {
   "cell_type": "code",
   "execution_count": null,
   "metadata": {},
   "outputs": [],
   "source": [
    "# Evalution the model"
   ]
  }
 ],
 "metadata": {
  "kernelspec": {
   "display_name": "keras-py3",
   "language": "python",
   "name": "keras-py3"
  },
  "language_info": {
   "codemirror_mode": {
    "name": "ipython",
    "version": 3
   },
   "file_extension": ".py",
   "mimetype": "text/x-python",
   "name": "python",
   "nbconvert_exporter": "python",
   "pygments_lexer": "ipython3",
   "version": "3.5.2"
  }
 },
 "nbformat": 4,
 "nbformat_minor": 2
}
